{
 "cells": [
  {
   "cell_type": "markdown",
   "id": "d9d5601e-7949-4846-98dd-48e8d599e176",
   "metadata": {},
   "source": [
    "# Linear regression"
   ]
  },
  {
   "cell_type": "markdown",
   "id": "3116eb98-e56b-4864-bd47-0ba8db835460",
   "metadata": {},
   "source": [
    "Regression is an attempt to explain movements in a variable by reference to movements in one or more other variables.\n",
    "\n",
    "We seek to explain movements of 'y' by the variables \\$x_1, x_2, ... , x_k\\$.\n",
    "\n",
    "There are various names for y and x variables:\n",
    "\n",
    "y: Dependent variable, Regressand, Effect variable, Explained variable\n",
    "\n",
    "x: Independent variables, Regressors, Causal variables, Explanatory variables"
   ]
  },
  {
   "cell_type": "markdown",
   "id": "203e5477-a541-4484-ac87-c5ef6088be73",
   "metadata": {},
   "source": [
    "### Regression vs Correlation"
   ]
  },
  {
   "cell_type": "markdown",
   "id": "81e4ebf5-2f63-4e43-94af-f1fdd068054b",
   "metadata": {},
   "source": [
    "The correlation between two variables measures the degree of linear association between them. \n",
    "\n",
    "If it is stated that y and x are correlated, it means that y and x are being treated in a completelt symmetrical way. \n",
    "It is not implied that changes in x cause changes  in y. \n",
    "\n",
    "In regression the dependent variable (y) and the independent variables are treated differently.\n",
    "The y variable is assumed to be random or stochastic in some way. \n",
    "The x variables are assumed to have fixed values in repeated samples. Regression as a tool is more flexible and more powerful than correlation"
   ]
  }
 ],
 "metadata": {
  "kernelspec": {
   "display_name": "Python 3 (ipykernel)",
   "language": "python",
   "name": "python3"
  },
  "language_info": {
   "codemirror_mode": {
    "name": "ipython",
    "version": 3
   },
   "file_extension": ".py",
   "mimetype": "text/x-python",
   "name": "python",
   "nbconvert_exporter": "python",
   "pygments_lexer": "ipython3",
   "version": "3.12.4"
  }
 },
 "nbformat": 4,
 "nbformat_minor": 5
}
